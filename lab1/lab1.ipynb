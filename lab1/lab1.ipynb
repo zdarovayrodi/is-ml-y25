{
  "cells": [
    {
      "cell_type": "markdown",
      "metadata": {
        "id": "yox6ttm0NRk1"
      },
      "source": [
        "# Лабораторная работа №1"
      ]
    },
    {
      "cell_type": "markdown",
      "metadata": {
        "id": "FPZeyqMsNRk5"
      },
      "source": [
        "## Задание №1"
      ]
    },
    {
      "cell_type": "markdown",
      "metadata": {
        "id": "7GXQGF0kNRk6"
      },
      "source": [
        "Функция `linan()`, решающая систему линейных уравнений вида:\n",
        "\n",
        "\\begin{matrix}\n",
        "    a_{11}x+a_{12}y=b_{1}&(1) \\\\\n",
        "    a_{21}x+a_{22}y=b_{2} &(2)\n",
        "\\end{matrix}\n",
        "​\n",
        "На вход программа принимает 2 строки.\n",
        "\n",
        "Каждая строка содержит 3 действительных числа через пробел: коэффициенты `a` и `b`.\n",
        "\n",
        "На выходе программа должна выдавать значения `x` и `y` в одну строку через пробел."
      ]
    },
    {
      "cell_type": "code",
      "execution_count": null,
      "metadata": {
        "dotnet_interactive": {
          "language": "value"
        },
        "polyglot_notebook": {
          "kernelName": "value"
        },
        "id": "YkmFlVzONRk7",
        "outputId": "bcc4db23-7388-4f6d-f4d0-b9b94e0208aa"
      },
      "outputs": [
        {
          "name": "stdout",
          "output_type": "stream",
          "text": [
            "3.0 -2.0 6.0 5.0 4.0 32.0\n",
            "(4.0, 3.0)\n"
          ]
        }
      ],
      "source": [
        "a11, a12, b12 = map(float, input().split())\n",
        "a21, a22, b22 = map(float, input().split())\n",
        "\n",
        "# uncomment for test\n",
        "# a11, a12, b12 = map(float, \"3.0 -2 6\".split())\n",
        "# a21, a22, b22 = map(float, \"5.0 4 32\".split())\n",
        "\n",
        "def linan(a11: float, a12: float, b12: float, a21: float, a22: float, b22: float) -> tuple:\n",
        "    \"\"\"Посчитаем главный определитель (det) и вспомогательные определители (det_x, det_y)\"\"\"\n",
        "    det = a11 * a22 - a12 * a21\n",
        "    det_x = b12 * a22 - b22 * a12\n",
        "    det_y = a11 * b22 - a21 * b12\n",
        "\n",
        "    if det == 0:\n",
        "        return None\n",
        "\n",
        "    return (det_x / det, det_y / det)\n",
        "\n",
        "print(linan(a11, a12, b12, a21, a22, b22))"
      ]
    },
    {
      "cell_type": "markdown",
      "metadata": {
        "id": "XU_zkm3xNRk9"
      },
      "source": [
        "## Задание №2"
      ]
    },
    {
      "cell_type": "markdown",
      "metadata": {
        "id": "youtMvZ7NRk-"
      },
      "source": [
        "Функция `decorate_matrix` получает на вход одно целое число больше единицы.\n",
        "Функция возвращает матрицу `n` на `n`, у которой на границах стоят единицы, а на всех остальных позициях (если остались позиции не на границах) стоят нули.\n",
        "\n",
        "**Без использования циклов.**"
      ]
    },
    {
      "cell_type": "code",
      "execution_count": null,
      "metadata": {
        "id": "6sxljV-kNRk-",
        "outputId": "0312d953-ee0f-455b-eac7-73894cfbc9e4"
      },
      "outputs": [
        {
          "name": "stdout",
          "output_type": "stream",
          "text": [
            "[[1. 1. 1.]\n",
            " [1. 0. 1.]\n",
            " [1. 1. 1.]]\n"
          ]
        }
      ],
      "source": [
        "import numpy as np\n",
        "\n",
        "\n",
        "def decorate_matrix(num: int) -> np.array:\n",
        "    \"\"\"Создадим матрицу num x num,\n",
        "    на границах которой стоят 1\n",
        "    на всех остальных позициях - 0\"\"\"\n",
        "    matrix = np.zeros((num, num))\n",
        "    matrix[0] = 1\n",
        "    matrix[-1] = 1\n",
        "    matrix[0:-1, 0] = 1\n",
        "    matrix[0:-1, -1] = 1\n",
        "    return matrix\n",
        "\n",
        "print(decorate_matrix(3))\n",
        ""
      ]
    },
    {
      "cell_type": "markdown",
      "metadata": {
        "id": "vhKM4RU_NRk_"
      },
      "source": [
        "## Задание №3"
      ]
    },
    {
      "cell_type": "markdown",
      "metadata": {
        "id": "PNL_OZAONRk_"
      },
      "source": [
        "Реализуем 2 функции:\n",
        "\n",
        "1. $f(x) = (x+a)^2 - b$\n",
        "2. $g(x) = |f(x)|$"
      ]
    },
    {
      "cell_type": "code",
      "execution_count": null,
      "metadata": {
        "id": "gsls5nqONRk_"
      },
      "outputs": [],
      "source": [
        "def f(x: float, a: float, b: float) -> float:\n",
        "    \"\"\"Функция f(x)\"\"\"\n",
        "    return (x + a) ** 2 - b\n",
        "\n",
        "def g(x: float, a: float, b: float) -> float:\n",
        "    \"\"\"Функция g(x)\"\"\"\n",
        "    return abs(f(x, a, b))"
      ]
    },
    {
      "cell_type": "markdown",
      "metadata": {
        "id": "H1mLeMHvNRlA"
      },
      "source": [
        "Найдем аргументы, при которых достигается минимум функций $f(x)$ и $g(x)$.\n",
        "\n",
        "Проаналазировав функцию $f(x)$, можно сделать вывод, что минимальное значение функции достигается в точке $x = -a$, так как любое другое значение $x$ будет увеличивать значение функции (из-за квадрата над скобкой). Следовательно, минимальное значение функции $f(x)$ равно $f(-a) = b$. Так как нам нужно найти аргумент функции, то ответом будет $x = -a$.\n",
        "\n",
        "Функция $g(x)$ принимает только положительные значения, так как мы берем модуль от функции $f(x)$. Следовательно, минимальное значение функции $g(x)$ будет достигаться при $f(x) = 0$. Решим уравнение:\n",
        "\n",
        "$$(x+a)^2 - b = 0 $$\n",
        "$$(x+a)^2 = b $$\n",
        "$$x+a = \\sqrt{b} $$\n",
        "$$x = \\sqrt{b} - a$$"
      ]
    },
    {
      "cell_type": "code",
      "execution_count": null,
      "metadata": {
        "id": "IgoRRn0HNRlA"
      },
      "outputs": [],
      "source": [
        "from math import sqrt\n",
        "\n",
        "\n",
        "def min_f(a: float, b: float) -> float:\n",
        "    \"\"\"Минимум функции f(x)\"\"\"\n",
        "    return -a\n",
        "\n",
        "def min_g(a: float, b: float) -> float:\n",
        "    \"\"\"Минимум функции g(x)\"\"\"\n",
        "    return sqrt(b) - a"
      ]
    },
    {
      "cell_type": "markdown",
      "metadata": {
        "id": "55u_kJMuNRlB"
      },
      "source": [
        "## Задание №4"
      ]
    },
    {
      "cell_type": "markdown",
      "metadata": {
        "id": "AAdHs0EoNRlB"
      },
      "source": [
        "Построение графиков для функций из предыдущего задания."
      ]
    },
    {
      "cell_type": "code",
      "execution_count": null,
      "metadata": {
        "id": "i60MrfinNRlB",
        "outputId": "feed4627-8bf5-4b94-9d70-249aa46d71b8"
      },
      "outputs": [
        {
          "name": "stdout",
          "output_type": "stream",
          "text": [
            "-3\n",
            "-1.0\n"
          ]
        },
        {
          "data": {
            "image/png": "[encoded data removed]",
            "text/plain": [
              "<Figure size 640x480 with 1 Axes>"
            ]
          },
          "metadata": {},
          "output_type": "display_data"
        }
      ],
      "source": [
        "import matplotlib.pyplot as plt\n",
        "\n",
        "\n",
        "def generate_points_f(x_values: list, a: float, b: float) -> list:\n",
        "    y = []\n",
        "\n",
        "    for x in x_values:\n",
        "        y.append(f(x, a, b))\n",
        "\n",
        "    return y\n",
        "\n",
        "def generate_points_g(x_values: list, a: float, b: float) -> list:\n",
        "    y = []\n",
        "\n",
        "    for x in x_values:\n",
        "        y.append(g(x, a, b))\n",
        "\n",
        "    return y\n",
        "\n",
        "# генерируем точки для графиков\n",
        "x_values = [i for i in range(-20,20)]\n",
        "y = generate_points_f(x_values, 3, 4)\n",
        "\n",
        "# графики функций f(x) и g(x)\n",
        "plt.plot(x_values, generate_points_f(x_values, 3, 4), 'r')  # f(x)\n",
        "plt.plot(x_values, generate_points_g(x_values, 3, 4), 'b')  # g(x)\n",
        "\n",
        "print(min_f(3, 4))\n",
        "print(min_g(3, 4))\n",
        "\n",
        "# точки минимума\n",
        "plt.plot([min_f(3, 4)], [f(min_f(3, 4), 3, 4)], 'ro')\n",
        "plt.plot([min_g(3, 4)], [g(min_g(3, 4), 3, 4)], 'bo')\n",
        "\n",
        "plt.title('График')\n",
        "plt.ylabel('y')\n",
        "plt.xlabel('x')\n",
        "plt.show()"
      ]
    },
    {
      "cell_type": "markdown",
      "metadata": {
        "id": "CiVIsKhINRlC"
      },
      "source": [
        "## Задание №5"
      ]
    },
    {
      "cell_type": "markdown",
      "metadata": {
        "id": "MK8aFM59NRlC"
      },
      "source": [
        "1000 человек бросают монетку. Каждый бросил 10 раз подряд.\n",
        "\n",
        "1. Какова вероятность того, что хотя бы у одного человека монетка выпала 10 раз подряд той же самой стороной (орлом или решкой)?\n",
        "2. Какова вероятность того, что хотя бы у одного человека монетка выпала 8 раз подряд той же самой стороной (орлом или решкой)?\n",
        "3. Какова вероятность того, что ровно у троих человек из 1000 монетка выпала 10 раз подряд той же самой стороной (орлом или решкой)?"
      ]
    },
    {
      "cell_type": "code",
      "execution_count": null,
      "metadata": {
        "id": "XsJ711YVNRlC"
      },
      "outputs": [],
      "source": [
        "\n",
        "from random import randint\n",
        "\n",
        "def toss_coin() -> int:\n",
        "    \"\"\"Подбрасываем монетку\"\"\"\n",
        "    return randint(0, 1)\n",
        "\n",
        "def toss_coins(n: int) -> list:\n",
        "    \"\"\"Подбрасываем монетку n раз\"\"\"\n",
        "    return [toss_coin() for _ in range(n)]"
      ]
    },
    {
      "cell_type": "code",
      "execution_count": null,
      "metadata": {
        "id": "5zL7IKsuNRlC",
        "outputId": "80fcf29d-b329-4e13-a8ab-25f8b9e96390"
      },
      "outputs": [
        {
          "name": "stdout",
          "output_type": "stream",
          "text": [
            "0.2%\n"
          ]
        }
      ],
      "source": [
        "\"\"\"Какова вероятность того, что хотя бы у одного человека монетка выпала 10 раз подряд той же самой стороной (орлом или решкой)?\"\"\"\n",
        "\n",
        "def check_toss_coins(n: int, k: int) -> bool:\n",
        "    \"\"\"Проверяем, выпала ли монетка k раз подряд одной стороной\"\"\"\n",
        "    coins = toss_coins(n)\n",
        "    for i in range(n - k + 1):\n",
        "        if coins[i:i + k] == [coins[i]] * k:\n",
        "            return True\n",
        "    return False\n",
        "\n",
        "def model(n: int, k: int, m: int) -> float:\n",
        "    \"\"\"Моделируем ситуацию m раз\"\"\"\n",
        "    return sum([check_toss_coins(n, k) for _ in range(m)]) / m\n",
        "\n",
        "print(model(10, 10, 1000) * 100, '%', sep='')"
      ]
    },
    {
      "cell_type": "code",
      "execution_count": null,
      "metadata": {
        "id": "GQkUFbooNRlD",
        "outputId": "01f95c6e-9e42-4779-b66d-1a14bf866726"
      },
      "outputs": [
        {
          "name": "stdout",
          "output_type": "stream",
          "text": [
            "1.7000000000000002%\n"
          ]
        }
      ],
      "source": [
        "\"\"\"Какова вероятность того, что хотя бы у одного человека монетка выпала 8 раз подряд той же самой стороной (орлом или решкой)?\"\"\"\n",
        "\n",
        "print(model(10, 8, 1000) * 100, '%', sep='')"
      ]
    },
    {
      "cell_type": "code",
      "execution_count": null,
      "metadata": {
        "id": "rN49KUxnNRlD",
        "outputId": "7d4b20c5-fc1e-4dd6-ba0d-5923fa142f4c"
      },
      "outputs": [
        {
          "name": "stdout",
          "output_type": "stream",
          "text": [
            "Probability: 5.500215 %\n"
          ]
        }
      ],
      "source": [
        "\"\"\"Какова вероятность того, что ровно у троих человек из 1000 монетка выпала 10 раз подряд той же самой стороной (орлом или решкой)?\"\"\"\n",
        "\n",
        "import random\n",
        "\n",
        "def experiment():\n",
        "    sequence = [random.randint(0,1) for _ in range(10)]\n",
        "    return sequence.count(sequence[0] == 1)\n",
        "\n",
        "number_experiments = 200_000\n",
        "number_successfull_experiments = sum(experiment() for _ in range(number_experiments))\n",
        "\n",
        "print(\"Probability:\", number_successfull_experiments / number_experiments, \"%\")\n",
        "\n"
      ]
    }
  ],
  "metadata": {
    "kernelspec": {
      "display_name": "Python 3",
      "language": "python",
      "name": "python3"
    },
    "language_info": {
      "codemirror_mode": {
        "name": "ipython",
        "version": 3
      },
      "file_extension": ".py",
      "mimetype": "text/x-python",
      "name": "python",
      "nbconvert_exporter": "python",
      "pygments_lexer": "ipython3",
      "version": "3.9.6"
    },
    "orig_nbformat": 4,
    "polyglot_notebook": {
      "kernelInfo": {
        "defaultKernelName": "csharp",
        "items": [
          {
            "aliases": [],
            "name": "csharp"
          }
        ]
      }
    },
    "colab": {
      "provenance": []
    }
  },
  "nbformat": 4,
  "nbformat_minor": 0
}