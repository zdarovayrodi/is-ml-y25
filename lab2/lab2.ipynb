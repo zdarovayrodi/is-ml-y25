{
  "nbformat": 4,
  "nbformat_minor": 0,
  "metadata": {
    "colab": {
      "provenance": []
    },
    "kernelspec": {
      "name": "python3",
      "display_name": "Python 3"
    },
    "language_info": {
      "name": "python"
    }
  },
  "cells": [
    {
      "cell_type": "code",
      "source": [
        "import pandas as pd\n",
        "\n",
        "# 0\n",
        "transactions = pd.read_csv(\"/content/drive/MyDrive/ITMO/5-sem/ml/transactions.csv\", nrows=1000000, index_col='customer_id')\n",
        "tr_types = pd.read_csv(\"/content/drive/MyDrive/ITMO/5-sem/ml/tr_types.csv\", sep=\";\", index_col='tr_type')\n",
        "tr_mcc_codes = pd.read_csv(\"/content/drive/MyDrive/ITMO/5-sem/ml/tr_mcc_codes.csv\", sep=\";\", index_col='mcc_code')\n",
        "gender_train = pd.read_csv(\"/content/drive/MyDrive/ITMO/5-sem/ml/gender_train.csv\", sep=\",\", index_col='customer_id')\n",
        "\n",
        "print(transactions.head())\n",
        "print(tr_types.head())\n",
        "print(tr_mcc_codes.head())\n",
        "print(gender_train.head())"
      ],
      "metadata": {
        "colab": {
          "base_uri": "https://localhost:8080/"
        },
        "id": "nHjbWL9LnTWw",
        "outputId": "ef9eb30f-3efb-4a51-e561-50f4f5a1a76a"
      },
      "execution_count": null,
      "outputs": [
        {
          "output_type": "stream",
          "name": "stdout",
          "text": [
            "            tr_datetime  mcc_code  tr_type    amount term_id\n",
            "customer_id                                                 \n",
            "39026145     0 10:23:26      4814     1030  -2245.92     NaN\n",
            "39026145     1 10:19:29      6011     7010  56147.89     NaN\n",
            "39026145     1 10:20:56      4829     2330 -56147.89     NaN\n",
            "39026145     1 10:39:54      5499     1010  -1392.47     NaN\n",
            "39026145     2 15:33:42      5499     1010   -920.83     NaN\n",
            "                                            tr_description\n",
            "tr_type                                                   \n",
            "3200     Плата за предоставление услуг посредством моби...\n",
            "3210     Плата за предоставление отчета по счету карты ...\n",
            "3800     Плата за обслуживание банковской карты (за пер...\n",
            "4000               Плата за получение наличных в Сбербанке\n",
            "4001     Плата за получение наличных в Сбербанке (в дру...\n",
            "                                            mcc_description\n",
            "mcc_code                                                   \n",
            "742                                     Ветеринарные услуги\n",
            "1711      Генеральные подрядчики по вентиляции, теплосна...\n",
            "1731                            Подрядчики по электричеству\n",
            "1799      Подрядчики, специализированная торговля — нигд...\n",
            "2741               Разнообразные издательства/печатное дело\n",
            "             gender\n",
            "customer_id        \n",
            "10928546          1\n",
            "69348468          1\n",
            "61009479          0\n",
            "74045822          0\n",
            "27979606          1\n"
          ]
        }
      ]
    },
    {
      "cell_type": "code",
      "execution_count": null,
      "metadata": {
        "id": "E9G6bwRVis6d",
        "colab": {
          "base_uri": "https://localhost:8080/"
        },
        "outputId": "39209d9f-ea99-4495-b282-58e2b14e4e8d"
      },
      "outputs": [
        {
          "output_type": "stream",
          "name": "stdout",
          "text": [
            "0.653\n"
          ]
        }
      ],
      "source": [
        "# 1.1\n",
        "\"\"\"Для столбца tr_type датафрейма transactions выберите произвольные 1000 строк с помощью метода sample\"\"\"\n",
        "sample = transactions[\"tr_type\"].sample(1000)\n",
        "\n",
        "# 1.2\n",
        "\"\"\"В полученной на предыдущем этапе подвыборке найдите долю транзакций (стобец tr_description в датасете tr_types), в которой содержится подстрока 'POS' или 'ATM\"\"\"\n",
        "descriptions = tr_types['tr_description']\n",
        "filtered_types = tr_types[descriptions.str.contains('POS|АТМ')]\n",
        "merge = sample[sample.isin(filtered_types.index)]\n",
        "\n",
        "\n",
        "transaction_ratio = len(merge) / len(sample)\n",
        "print(transaction_ratio)"
      ]
    },
    {
      "cell_type": "code",
      "source": [
        "# 2.1\n",
        "\"\"\"Для столбца tr_type датафрейма transactions посчитайте частоту встречаемости всех типов транзакций tr_type в transactions.\"\"\"\n",
        "transaction_counts = transactions['tr_type'].value_counts(normalize=True)\n",
        "print(transaction_counts)\n",
        "\n",
        "# 2.2\n",
        "\"\"\"Выведите топ-10 транзакций по частоте встречаемости (вывести для них tr_description тоже).\"\"\"\n",
        "\n",
        "top_10_transactions = transaction_counts.head(10)\n",
        "top_10_descriptions = tr_types.loc[top_10_transactions.index]['tr_description']\n",
        "\n",
        "result = pd.DataFrame({'tr_type': top_10_transactions.index, 'tr_description': top_10_descriptions.values})\n",
        "print(result)"
      ],
      "metadata": {
        "colab": {
          "base_uri": "https://localhost:8080/"
        },
        "id": "xo2ZF5FQplTj",
        "outputId": "81d9e4c4-dcb4-42ba-e0da-eacf3cb60f27"
      },
      "execution_count": null,
      "outputs": [
        {
          "output_type": "stream",
          "name": "stdout",
          "text": [
            "1010    0.231117\n",
            "2010    0.151166\n",
            "7070    0.149006\n",
            "1110    0.137658\n",
            "1030    0.118975\n",
            "          ...   \n",
            "2446    0.000004\n",
            "4096    0.000004\n",
            "8146    0.000003\n",
            "1510    0.000002\n",
            "8100    0.000002\n",
            "Name: tr_type, Length: 72, dtype: float64\n",
            "   tr_type                                     tr_description\n",
            "0     1010                              Покупка. POS ТУ СБ РФ\n",
            "1     2010              Выдача наличных в АТМ Сбербанк России\n",
            "2     7070  Перевод на карту (с карты) через Мобильный бан...\n",
            "3     1110                             Покупка. POS ТУ Россия\n",
            "4     1030                     Оплата услуги. Банкоматы СБ РФ\n",
            "5     2370  Списание с карты на карту по операции <перевод...\n",
            "6     7010       Взнос наличных через АТМ (в своем тер.банке)\n",
            "7     7030  Перевод на карту (с карты) через АТМ (в предел...\n",
            "8     7071  Перевод на карту (с карты) через Мобильный бан...\n",
            "9     1100                                Покупка. ТУ  Россия\n"
          ]
        }
      ]
    },
    {
      "cell_type": "code",
      "source": [
        "# 3.1\n",
        "\"\"\"В датафрейме transactions найдите клиента с максимальной суммой приходов на карту\"\"\"\n",
        "customer_with_max_income = transactions[transactions['amount'] > 0].groupby('customer_id')['amount'].sum().idxmax()\n",
        "\n",
        "# 3.2\n",
        "\"\"\"В датафрейме transactions найдите клиента с максимальной суммой расходов по карте\"\"\"\n",
        "customer_with_max_expenses = transactions[transactions['amount'] < 0].groupby('customer_id')['amount'].sum().idxmin()\n",
        "\n",
        "# 3.3\n",
        "\"\"\"Найдите модуль разницы для этих клиентов между суммой расходов и суммой приходов\"\"\"\n",
        "transactions.loc[customer_with_max_income, 'amount']\n",
        "# 3.3\n",
        "\"\"\"Найдите модуль разницы для этих клиентов между суммой расходов и суммой приходов\"\"\"\n",
        "income_total = transactions.loc[(transactions.index == customer_with_max_income) & (transactions['amount'] > 0), 'amount'].sum()\n",
        "expenses_total = transactions.loc[(transactions.index == customer_with_max_expenses) & (transactions['amount'] < 0), 'amount'].sum()\n",
        "difference = income_total + abs(expenses_total)\n",
        "\n",
        "print(\"Customer with max income:\", customer_with_max_income)\n",
        "print(\"Customer with max expenses:\", customer_with_max_expenses)\n",
        "print(\"Difference:\", difference)"
      ],
      "metadata": {
        "colab": {
          "base_uri": "https://localhost:8080/"
        },
        "id": "9R8Lx9dg12PL",
        "outputId": "bda4a3dd-e9e2-45b6-df1b-1b3a65dc61ef"
      },
      "execution_count": null,
      "outputs": [
        {
          "output_type": "stream",
          "name": "stdout",
          "text": [
            "Customer with max income: 70780820\n",
            "Customer with max expenses: 70780820\n",
            "Difference: 2498067091.6\n"
          ]
        }
      ]
    },
    {
      "cell_type": "code",
      "source": [
        "# 4.1\n",
        "\"\"\"Найдите среднее арифметическое и медиану по amount по всем типам транзакций из топ 10 из задания 2\"\"\"\n",
        "print(result)\n",
        "part1 = transactions[transactions[\"tr_type\"].isin(result.index)].groupby(\"tr_type\")\n",
        "print(part1['amount'].mean)\n",
        "\n",
        "# 4.2\n",
        "\"\"\"Найдите среднее арифметическое и медиану по amount по всем типам транзакций для клиентов из задания 3\"\"\"\n",
        "customer_3_amounts = transactions[transactions.isin([customer_with_max_income, customer_with_max_expenses])]['amount']\n",
        "mean_amount_customer_3 = customer_3_amounts.mean()\n",
        "median_amount_customer_3 = customer_3_amounts.median()\n",
        "\n",
        "print(\"Mean amount for customer from task 3:\", mean_amount_customer_3)\n",
        "print(\"Median amount for customer from task 3:\", median_amount_customer_3)"
      ],
      "metadata": {
        "colab": {
          "base_uri": "https://localhost:8080/"
        },
        "id": "w2hM2boThGNb",
        "outputId": "9d6d43ef-15ae-41bf-e904-453d0a5f1b10"
      },
      "execution_count": null,
      "outputs": [
        {
          "output_type": "stream",
          "name": "stdout",
          "text": [
            "   tr_type                                     tr_description\n",
            "0     1010                              Покупка. POS ТУ СБ РФ\n",
            "1     2010              Выдача наличных в АТМ Сбербанк России\n",
            "2     7070  Перевод на карту (с карты) через Мобильный бан...\n",
            "3     1110                             Покупка. POS ТУ Россия\n",
            "4     1030                     Оплата услуги. Банкоматы СБ РФ\n",
            "5     2370  Списание с карты на карту по операции <перевод...\n",
            "6     7010       Взнос наличных через АТМ (в своем тер.банке)\n",
            "7     7030  Перевод на карту (с карты) через АТМ (в предел...\n",
            "8     7071  Перевод на карту (с карты) через Мобильный бан...\n",
            "9     1100                                Покупка. ТУ  Россия\n",
            "<bound method GroupBy.mean of <pandas.core.groupby.generic.SeriesGroupBy object at 0x7f3424217490>>\n",
            "Mean amount for customer from task 3: nan\n",
            "Median amount for customer from task 3: nan\n"
          ]
        },
        {
          "output_type": "stream",
          "name": "stderr",
          "text": [
            "/usr/local/lib/python3.10/dist-packages/numpy/lib/nanfunctions.py:1215: RuntimeWarning: Mean of empty slice\n",
            "  return np.nanmean(a, axis, out=out, keepdims=keepdims)\n"
          ]
        }
      ]
    },
    {
      "cell_type": "code",
      "source": [
        "top_10_transactions = transaction_counts.head(10) # из задания 2.1\n",
        "mean_top_10 = transactions[transactions['tr_type'].isin(top_10_transactions.index)]['amount'].mean()\n",
        "median_top_10 = transactions[transactions['tr_type'].isin(top_10_transactions.index)]['amount'].median()\n",
        "\n",
        "print(\"Среднее значение по всем типам транзакций из топ 10:\", mean_top_10)\n",
        "print(\"Медиана по всем типам транзакций из топ 10:\", median_top_10)\n"
      ],
      "metadata": {
        "id": "ip_q9CU3_Uul"
      },
      "execution_count": null,
      "outputs": []
    }
  ]
}