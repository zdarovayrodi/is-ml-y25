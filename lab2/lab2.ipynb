{
  "nbformat": 4,
  "nbformat_minor": 0,
  "metadata": {
    "colab": {
      "provenance": []
    },
    "kernelspec": {
      "name": "python3",
      "display_name": "Python 3"
    },
    "language_info": {
      "name": "python"
    }
  },
  "cells": [
    {
      "cell_type": "markdown",
      "source": [
        "# 2 lab"
      ],
      "metadata": {
        "id": "i4n-3WydVTyo"
      }
    },
    {
      "cell_type": "code",
      "source": [
        "import pandas as pd\n",
        "\n",
        "# 0\n",
        "transactions = pd.read_csv(\"/content/drive/MyDrive/ITMO/5-sem/ml/transactions.csv\", nrows=1000000, index_col='customer_id')\n",
        "tr_types = pd.read_csv(\"/content/drive/MyDrive/ITMO/5-sem/ml/tr_types.csv\", sep=\";\", index_col='tr_type')\n",
        "tr_mcc_codes = pd.read_csv(\"/content/drive/MyDrive/ITMO/5-sem/ml/tr_mcc_codes.csv\", sep=\";\", index_col='mcc_code')\n",
        "gender_train = pd.read_csv(\"/content/drive/MyDrive/ITMO/5-sem/ml/gender_train.csv\", sep=\",\", index_col='customer_id')\n",
        "\n",
        "print(transactions.head())\n",
        "print(tr_types.head())\n",
        "print(tr_mcc_codes.head())\n",
        "print(gender_train.head())"
      ],
      "metadata": {
        "colab": {
          "base_uri": "https://localhost:8080/"
        },
        "id": "nHjbWL9LnTWw",
        "outputId": "10151dab-ee2b-496c-a0b7-edf388044378"
      },
      "execution_count": null,
      "outputs": [
        {
          "output_type": "stream",
          "name": "stdout",
          "text": [
            "            tr_datetime  mcc_code  tr_type    amount term_id\n",
            "customer_id                                                 \n",
            "39026145     0 10:23:26      4814     1030  -2245.92     NaN\n",
            "39026145     1 10:19:29      6011     7010  56147.89     NaN\n",
            "39026145     1 10:20:56      4829     2330 -56147.89     NaN\n",
            "39026145     1 10:39:54      5499     1010  -1392.47     NaN\n",
            "39026145     2 15:33:42      5499     1010   -920.83     NaN\n",
            "                                            tr_description\n",
            "tr_type                                                   \n",
            "3200     Плата за предоставление услуг посредством моби...\n",
            "3210     Плата за предоставление отчета по счету карты ...\n",
            "3800     Плата за обслуживание банковской карты (за пер...\n",
            "4000               Плата за получение наличных в Сбербанке\n",
            "4001     Плата за получение наличных в Сбербанке (в дру...\n",
            "                                            mcc_description\n",
            "mcc_code                                                   \n",
            "742                                     Ветеринарные услуги\n",
            "1711      Генеральные подрядчики по вентиляции, теплосна...\n",
            "1731                            Подрядчики по электричеству\n",
            "1799      Подрядчики, специализированная торговля — нигд...\n",
            "2741               Разнообразные издательства/печатное дело\n",
            "             gender\n",
            "customer_id        \n",
            "10928546          1\n",
            "69348468          1\n",
            "61009479          0\n",
            "74045822          0\n",
            "27979606          1\n"
          ]
        }
      ]
    },
    {
      "cell_type": "code",
      "execution_count": null,
      "metadata": {
        "id": "E9G6bwRVis6d",
        "colab": {
          "base_uri": "https://localhost:8080/"
        },
        "outputId": "201ffcb8-d138-4c0c-ea14-50d2b92650e8"
      },
      "outputs": [
        {
          "output_type": "stream",
          "name": "stdout",
          "text": [
            "0.607\n"
          ]
        }
      ],
      "source": [
        "# 1.1\n",
        "\"\"\"Для столбца tr_type датафрейма transactions выберите произвольные 1000 строк с помощью метода sample\"\"\"\n",
        "sample = transactions[\"tr_type\"].sample(1000)\n",
        "\n",
        "# 1.2\n",
        "\"\"\"В полученной на предыдущем этапе подвыборке найдите долю транзакций (стобец tr_description в датасете tr_types), в которой содержится подстрока 'POS' или 'ATM\"\"\"\n",
        "descriptions = tr_types['tr_description']\n",
        "filtered_types = tr_types[descriptions.str.contains('POS|АТМ')]\n",
        "merge = sample[sample.isin(filtered_types.index)]\n",
        "\n",
        "\n",
        "transaction_ratio = len(merge) / len(sample)\n",
        "print(transaction_ratio)"
      ]
    },
    {
      "cell_type": "code",
      "source": [
        "# 2.1\n",
        "\"\"\"Для столбца tr_type датафрейма transactions посчитайте частоту встречаемости всех типов транзакций tr_type в transactions.\"\"\"\n",
        "transaction_counts = transactions['tr_type'].value_counts(normalize=True)\n",
        "print(transaction_counts)\n",
        "\n",
        "# 2.2\n",
        "\"\"\"Выведите топ-10 транзакций по частоте встречаемости (вывести для них tr_description тоже).\"\"\"\n",
        "\n",
        "top_10_transactions = transaction_counts.head(10)\n",
        "top_10_descriptions = tr_types.loc[top_10_transactions.index]['tr_description']\n",
        "\n",
        "result = pd.DataFrame({'tr_type': top_10_transactions.index, 'tr_description': top_10_descriptions.values})\n",
        "print(result)"
      ],
      "metadata": {
        "colab": {
          "base_uri": "https://localhost:8080/"
        },
        "id": "xo2ZF5FQplTj",
        "outputId": "2f896d3f-3411-4f68-a135-e72dfb7f535b"
      },
      "execution_count": null,
      "outputs": [
        {
          "output_type": "stream",
          "name": "stdout",
          "text": [
            "1010    0.231117\n",
            "2010    0.151166\n",
            "7070    0.149006\n",
            "1110    0.137658\n",
            "1030    0.118975\n",
            "          ...   \n",
            "2446    0.000004\n",
            "4096    0.000004\n",
            "8146    0.000003\n",
            "1510    0.000002\n",
            "8100    0.000002\n",
            "Name: tr_type, Length: 72, dtype: float64\n",
            "   tr_type                                     tr_description\n",
            "0     1010                              Покупка. POS ТУ СБ РФ\n",
            "1     2010              Выдача наличных в АТМ Сбербанк России\n",
            "2     7070  Перевод на карту (с карты) через Мобильный бан...\n",
            "3     1110                             Покупка. POS ТУ Россия\n",
            "4     1030                     Оплата услуги. Банкоматы СБ РФ\n",
            "5     2370  Списание с карты на карту по операции <перевод...\n",
            "6     7010       Взнос наличных через АТМ (в своем тер.банке)\n",
            "7     7030  Перевод на карту (с карты) через АТМ (в предел...\n",
            "8     7071  Перевод на карту (с карты) через Мобильный бан...\n",
            "9     1100                                Покупка. ТУ  Россия\n"
          ]
        }
      ]
    },
    {
      "cell_type": "code",
      "source": [
        "# 3.1\n",
        "\"\"\"В датафрейме transactions найдите клиента с максимальной суммой приходов на карту\"\"\"\n",
        "customer_with_max_income = transactions[transactions['amount'] > 0].groupby('customer_id')['amount'].sum().idxmax()\n",
        "\n",
        "# 3.2\n",
        "\"\"\"В датафрейме transactions найдите клиента с максимальной суммой расходов по карте\"\"\"\n",
        "customer_with_max_expenses = transactions[transactions['amount'] < 0].groupby('customer_id')['amount'].sum().idxmin()\n",
        "\n",
        "# 3.3\n",
        "\"\"\"Найдите модуль разницы для этих клиентов между суммой расходов и суммой приходов\"\"\"\n",
        "transactions.loc[customer_with_max_income, 'amount']\n",
        "# 3.3\n",
        "\"\"\"Найдите модуль разницы для этих клиентов между суммой расходов и суммой приходов\"\"\"\n",
        "income_total = transactions.loc[(transactions.index == customer_with_max_income) & (transactions['amount'] > 0), 'amount'].sum()\n",
        "expenses_total = transactions.loc[(transactions.index == customer_with_max_expenses) & (transactions['amount'] < 0), 'amount'].sum()\n",
        "difference = abs(income_total + expenses_total)\n",
        "\n",
        "print(\"Customer with max income:\", customer_with_max_income)\n",
        "print(\"Customer with max expenses:\", customer_with_max_expenses)\n",
        "print(\"Difference:\", difference)"
      ],
      "metadata": {
        "colab": {
          "base_uri": "https://localhost:8080/"
        },
        "id": "9R8Lx9dg12PL",
        "outputId": "f179715d-d24b-4cbe-8141-30ad420a4a31"
      },
      "execution_count": null,
      "outputs": [
        {
          "output_type": "stream",
          "name": "stdout",
          "text": [
            "Customer with max income: 70780820\n",
            "Customer with max expenses: 70780820\n",
            "Difference: 1837317.980000019\n"
          ]
        }
      ]
    },
    {
      "cell_type": "code",
      "source": [
        "# 4.1\n",
        "top_10_transactions = transactions[transactions['tr_type'].isin(transaction_counts.head(10).index)]\n",
        "mean_top_10 = top_10_transactions.groupby('tr_type')['amount'].mean()\n",
        "median_top_10 = top_10_transactions.groupby('tr_type')['amount'].median()\n",
        "pd.concat([mean_top_10, median_top_10], axis=1)"
      ],
      "metadata": {
        "colab": {
          "base_uri": "https://localhost:8080/",
          "height": 390
        },
        "id": "ip_q9CU3_Uul",
        "outputId": "8173102e-5704-4876-9dbd-e7c7571dfacd"
      },
      "execution_count": null,
      "outputs": [
        {
          "output_type": "execute_result",
          "data": {
            "text/plain": [
              "                amount     amount\n",
              "tr_type                          \n",
              "1010     -19784.748640   -7411.52\n",
              "1030      -5320.980222   -2245.92\n",
              "1100     -44061.827262  -10188.26\n",
              "1110     -32119.330371  -11207.57\n",
              "2010    -136077.629325  -44918.32\n",
              "2370    -205418.249032  -44918.32\n",
              "7010     276391.789596  112295.79\n",
              "7030      86104.332909   13951.52\n",
              "7070      65569.831700   11319.42\n",
              "7071      66806.826623    3593.47"
            ],
            "text/html": [
              "\n",
              "  <div id=\"df-afe4315b-dc1a-4e0b-a34f-631f7e4c4fe8\" class=\"colab-df-container\">\n",
              "    <div>\n",
              "<style scoped>\n",
              "    .dataframe tbody tr th:only-of-type {\n",
              "        vertical-align: middle;\n",
              "    }\n",
              "\n",
              "    .dataframe tbody tr th {\n",
              "        vertical-align: top;\n",
              "    }\n",
              "\n",
              "    .dataframe thead th {\n",
              "        text-align: right;\n",
              "    }\n",
              "</style>\n",
              "<table border=\"1\" class=\"dataframe\">\n",
              "  <thead>\n",
              "    <tr style=\"text-align: right;\">\n",
              "      <th></th>\n",
              "      <th>amount</th>\n",
              "      <th>amount</th>\n",
              "    </tr>\n",
              "    <tr>\n",
              "      <th>tr_type</th>\n",
              "      <th></th>\n",
              "      <th></th>\n",
              "    </tr>\n",
              "  </thead>\n",
              "  <tbody>\n",
              "    <tr>\n",
              "      <th>1010</th>\n",
              "      <td>-19784.748640</td>\n",
              "      <td>-7411.52</td>\n",
              "    </tr>\n",
              "    <tr>\n",
              "      <th>1030</th>\n",
              "      <td>-5320.980222</td>\n",
              "      <td>-2245.92</td>\n",
              "    </tr>\n",
              "    <tr>\n",
              "      <th>1100</th>\n",
              "      <td>-44061.827262</td>\n",
              "      <td>-10188.26</td>\n",
              "    </tr>\n",
              "    <tr>\n",
              "      <th>1110</th>\n",
              "      <td>-32119.330371</td>\n",
              "      <td>-11207.57</td>\n",
              "    </tr>\n",
              "    <tr>\n",
              "      <th>2010</th>\n",
              "      <td>-136077.629325</td>\n",
              "      <td>-44918.32</td>\n",
              "    </tr>\n",
              "    <tr>\n",
              "      <th>2370</th>\n",
              "      <td>-205418.249032</td>\n",
              "      <td>-44918.32</td>\n",
              "    </tr>\n",
              "    <tr>\n",
              "      <th>7010</th>\n",
              "      <td>276391.789596</td>\n",
              "      <td>112295.79</td>\n",
              "    </tr>\n",
              "    <tr>\n",
              "      <th>7030</th>\n",
              "      <td>86104.332909</td>\n",
              "      <td>13951.52</td>\n",
              "    </tr>\n",
              "    <tr>\n",
              "      <th>7070</th>\n",
              "      <td>65569.831700</td>\n",
              "      <td>11319.42</td>\n",
              "    </tr>\n",
              "    <tr>\n",
              "      <th>7071</th>\n",
              "      <td>66806.826623</td>\n",
              "      <td>3593.47</td>\n",
              "    </tr>\n",
              "  </tbody>\n",
              "</table>\n",
              "</div>\n",
              "    <div class=\"colab-df-buttons\">\n",
              "\n",
              "  <div class=\"colab-df-container\">\n",
              "    <button class=\"colab-df-convert\" onclick=\"convertToInteractive('df-afe4315b-dc1a-4e0b-a34f-631f7e4c4fe8')\"\n",
              "            title=\"Convert this dataframe to an interactive table.\"\n",
              "            style=\"display:none;\">\n",
              "\n",
              "  <svg xmlns=\"http://www.w3.org/2000/svg\" height=\"24px\" viewBox=\"0 -960 960 960\">\n",
              "    <path d=\"M120-120v-720h720v720H120Zm60-500h600v-160H180v160Zm220 220h160v-160H400v160Zm0 220h160v-160H400v160ZM180-400h160v-160H180v160Zm440 0h160v-160H620v160ZM180-180h160v-160H180v160Zm440 0h160v-160H620v160Z\"/>\n",
              "  </svg>\n",
              "    </button>\n",
              "\n",
              "  <style>\n",
              "    .colab-df-container {\n",
              "      display:flex;\n",
              "      gap: 12px;\n",
              "    }\n",
              "\n",
              "    .colab-df-convert {\n",
              "      background-color: #E8F0FE;\n",
              "      border: none;\n",
              "      border-radius: 50%;\n",
              "      cursor: pointer;\n",
              "      display: none;\n",
              "      fill: #1967D2;\n",
              "      height: 32px;\n",
              "      padding: 0 0 0 0;\n",
              "      width: 32px;\n",
              "    }\n",
              "\n",
              "    .colab-df-convert:hover {\n",
              "      background-color: #E2EBFA;\n",
              "      box-shadow: 0px 1px 2px rgba(60, 64, 67, 0.3), 0px 1px 3px 1px rgba(60, 64, 67, 0.15);\n",
              "      fill: #174EA6;\n",
              "    }\n",
              "\n",
              "    .colab-df-buttons div {\n",
              "      margin-bottom: 4px;\n",
              "    }\n",
              "\n",
              "    [theme=dark] .colab-df-convert {\n",
              "      background-color: #3B4455;\n",
              "      fill: #D2E3FC;\n",
              "    }\n",
              "\n",
              "    [theme=dark] .colab-df-convert:hover {\n",
              "      background-color: #434B5C;\n",
              "      box-shadow: 0px 1px 3px 1px rgba(0, 0, 0, 0.15);\n",
              "      filter: drop-shadow(0px 1px 2px rgba(0, 0, 0, 0.3));\n",
              "      fill: #FFFFFF;\n",
              "    }\n",
              "  </style>\n",
              "\n",
              "    <script>\n",
              "      const buttonEl =\n",
              "        document.querySelector('#df-afe4315b-dc1a-4e0b-a34f-631f7e4c4fe8 button.colab-df-convert');\n",
              "      buttonEl.style.display =\n",
              "        google.colab.kernel.accessAllowed ? 'block' : 'none';\n",
              "\n",
              "      async function convertToInteractive(key) {\n",
              "        const element = document.querySelector('#df-afe4315b-dc1a-4e0b-a34f-631f7e4c4fe8');\n",
              "        const dataTable =\n",
              "          await google.colab.kernel.invokeFunction('convertToInteractive',\n",
              "                                                    [key], {});\n",
              "        if (!dataTable) return;\n",
              "\n",
              "        const docLinkHtml = 'Like what you see? Visit the ' +\n",
              "          '<a target=\"_blank\" href=https://colab.research.google.com/notebooks/data_table.ipynb>data table notebook</a>'\n",
              "          + ' to learn more about interactive tables.';\n",
              "        element.innerHTML = '';\n",
              "        dataTable['output_type'] = 'display_data';\n",
              "        await google.colab.output.renderOutput(dataTable, element);\n",
              "        const docLink = document.createElement('div');\n",
              "        docLink.innerHTML = docLinkHtml;\n",
              "        element.appendChild(docLink);\n",
              "      }\n",
              "    </script>\n",
              "  </div>\n",
              "\n",
              "\n",
              "<div id=\"df-f144e0f4-397f-4a5c-b57c-3e8ab773f31a\">\n",
              "  <button class=\"colab-df-quickchart\" onclick=\"quickchart('df-f144e0f4-397f-4a5c-b57c-3e8ab773f31a')\"\n",
              "            title=\"Suggest charts.\"\n",
              "            style=\"display:none;\">\n",
              "\n",
              "<svg xmlns=\"http://www.w3.org/2000/svg\" height=\"24px\"viewBox=\"0 0 24 24\"\n",
              "     width=\"24px\">\n",
              "    <g>\n",
              "        <path d=\"M19 3H5c-1.1 0-2 .9-2 2v14c0 1.1.9 2 2 2h14c1.1 0 2-.9 2-2V5c0-1.1-.9-2-2-2zM9 17H7v-7h2v7zm4 0h-2V7h2v10zm4 0h-2v-4h2v4z\"/>\n",
              "    </g>\n",
              "</svg>\n",
              "  </button>\n",
              "\n",
              "<style>\n",
              "  .colab-df-quickchart {\n",
              "      --bg-color: #E8F0FE;\n",
              "      --fill-color: #1967D2;\n",
              "      --hover-bg-color: #E2EBFA;\n",
              "      --hover-fill-color: #174EA6;\n",
              "      --disabled-fill-color: #AAA;\n",
              "      --disabled-bg-color: #DDD;\n",
              "  }\n",
              "\n",
              "  [theme=dark] .colab-df-quickchart {\n",
              "      --bg-color: #3B4455;\n",
              "      --fill-color: #D2E3FC;\n",
              "      --hover-bg-color: #434B5C;\n",
              "      --hover-fill-color: #FFFFFF;\n",
              "      --disabled-bg-color: #3B4455;\n",
              "      --disabled-fill-color: #666;\n",
              "  }\n",
              "\n",
              "  .colab-df-quickchart {\n",
              "    background-color: var(--bg-color);\n",
              "    border: none;\n",
              "    border-radius: 50%;\n",
              "    cursor: pointer;\n",
              "    display: none;\n",
              "    fill: var(--fill-color);\n",
              "    height: 32px;\n",
              "    padding: 0;\n",
              "    width: 32px;\n",
              "  }\n",
              "\n",
              "  .colab-df-quickchart:hover {\n",
              "    background-color: var(--hover-bg-color);\n",
              "    box-shadow: 0 1px 2px rgba(60, 64, 67, 0.3), 0 1px 3px 1px rgba(60, 64, 67, 0.15);\n",
              "    fill: var(--button-hover-fill-color);\n",
              "  }\n",
              "\n",
              "  .colab-df-quickchart-complete:disabled,\n",
              "  .colab-df-quickchart-complete:disabled:hover {\n",
              "    background-color: var(--disabled-bg-color);\n",
              "    fill: var(--disabled-fill-color);\n",
              "    box-shadow: none;\n",
              "  }\n",
              "\n",
              "  .colab-df-spinner {\n",
              "    border: 2px solid var(--fill-color);\n",
              "    border-color: transparent;\n",
              "    border-bottom-color: var(--fill-color);\n",
              "    animation:\n",
              "      spin 1s steps(1) infinite;\n",
              "  }\n",
              "\n",
              "  @keyframes spin {\n",
              "    0% {\n",
              "      border-color: transparent;\n",
              "      border-bottom-color: var(--fill-color);\n",
              "      border-left-color: var(--fill-color);\n",
              "    }\n",
              "    20% {\n",
              "      border-color: transparent;\n",
              "      border-left-color: var(--fill-color);\n",
              "      border-top-color: var(--fill-color);\n",
              "    }\n",
              "    30% {\n",
              "      border-color: transparent;\n",
              "      border-left-color: var(--fill-color);\n",
              "      border-top-color: var(--fill-color);\n",
              "      border-right-color: var(--fill-color);\n",
              "    }\n",
              "    40% {\n",
              "      border-color: transparent;\n",
              "      border-right-color: var(--fill-color);\n",
              "      border-top-color: var(--fill-color);\n",
              "    }\n",
              "    60% {\n",
              "      border-color: transparent;\n",
              "      border-right-color: var(--fill-color);\n",
              "    }\n",
              "    80% {\n",
              "      border-color: transparent;\n",
              "      border-right-color: var(--fill-color);\n",
              "      border-bottom-color: var(--fill-color);\n",
              "    }\n",
              "    90% {\n",
              "      border-color: transparent;\n",
              "      border-bottom-color: var(--fill-color);\n",
              "    }\n",
              "  }\n",
              "</style>\n",
              "\n",
              "  <script>\n",
              "    async function quickchart(key) {\n",
              "      const quickchartButtonEl =\n",
              "        document.querySelector('#' + key + ' button');\n",
              "      quickchartButtonEl.disabled = true;  // To prevent multiple clicks.\n",
              "      quickchartButtonEl.classList.add('colab-df-spinner');\n",
              "      try {\n",
              "        const charts = await google.colab.kernel.invokeFunction(\n",
              "            'suggestCharts', [key], {});\n",
              "      } catch (error) {\n",
              "        console.error('Error during call to suggestCharts:', error);\n",
              "      }\n",
              "      quickchartButtonEl.classList.remove('colab-df-spinner');\n",
              "      quickchartButtonEl.classList.add('colab-df-quickchart-complete');\n",
              "    }\n",
              "    (() => {\n",
              "      let quickchartButtonEl =\n",
              "        document.querySelector('#df-f144e0f4-397f-4a5c-b57c-3e8ab773f31a button');\n",
              "      quickchartButtonEl.style.display =\n",
              "        google.colab.kernel.accessAllowed ? 'block' : 'none';\n",
              "    })();\n",
              "  </script>\n",
              "</div>\n",
              "    </div>\n",
              "  </div>\n"
            ]
          },
          "metadata": {},
          "execution_count": 83
        }
      ]
    },
    {
      "cell_type": "code",
      "source": [
        "# 4.2.max incomes\n",
        "trans_clients3 = transactions[transactions.index == customer_with_max_income]  # index is customer_id\n",
        "trans_clients3_mean = trans_clients3.groupby('tr_type')['amount'].mean()\n",
        "trans_clients3_median = trans_clients3.groupby('tr_type')['amount'].median()\n",
        "print(pd.concat([trans_clients3_mean, trans_clients3_median], axis=1))\n",
        "# 4.2.max expenses\n",
        "trans_clients3 = transactions[transactions.index == customer_with_max_expenses]  # index is customer_id\n",
        "trans_clients3_mean = trans_clients3.groupby('tr_type')['amount'].mean()\n",
        "trans_clients3_median = trans_clients3.groupby('tr_type')['amount'].median()\n",
        "print(pd.concat([trans_clients3_mean, trans_clients3_median], axis=1))"
      ],
      "metadata": {
        "colab": {
          "base_uri": "https://localhost:8080/"
        },
        "id": "3htNMcnWxnUn",
        "outputId": "40b037b7-50ce-49ec-c372-3745e6872fa3"
      },
      "execution_count": null,
      "outputs": [
        {
          "output_type": "stream",
          "name": "stdout",
          "text": [
            "               amount       amount\n",
            "tr_type                           \n",
            "2010    -2.941056e+06 -3368873.660\n",
            "2330    -2.382398e+06 -2245915.770\n",
            "2370    -2.218505e+06 -2245915.770\n",
            "6110     1.756293e+04    10028.010\n",
            "7020     1.465129e+04    10319.985\n",
            "7021     2.850067e+04    28500.670\n",
            "7030     1.406196e+04     8848.910\n",
            "7031     1.921036e+04    12992.620\n",
            "7034     1.430648e+04    14306.480\n",
            "7040     2.153833e+04    14396.320\n",
            "7070     1.384821e+04     8714.150\n",
            "7071     1.860057e+04    12543.440\n",
            "7074     2.281159e+04     9387.930\n",
            "               amount       amount\n",
            "tr_type                           \n",
            "2010    -2.941056e+06 -3368873.660\n",
            "2330    -2.382398e+06 -2245915.770\n",
            "2370    -2.218505e+06 -2245915.770\n",
            "6110     1.756293e+04    10028.010\n",
            "7020     1.465129e+04    10319.985\n",
            "7021     2.850067e+04    28500.670\n",
            "7030     1.406196e+04     8848.910\n",
            "7031     1.921036e+04    12992.620\n",
            "7034     1.430648e+04    14306.480\n",
            "7040     2.153833e+04    14396.320\n",
            "7070     1.384821e+04     8714.150\n",
            "7071     1.860057e+04    12543.440\n",
            "7074     2.281159e+04     9387.930\n"
          ]
        }
      ]
    },
    {
      "cell_type": "code",
      "source": [
        "transactions = transactions.join(tr_mcc_codes, on='mcc_code', how='inner')\n",
        "transactions = transactions.join(tr_types, on='tr_type', how='inner')\n",
        "transactions = transactions.join(gender_train, on='customer_id', how='left')\n",
        "\n",
        "# Проверяем размерность результирующей таблицы\n",
        "print(transactions.shape)"
      ],
      "metadata": {
        "colab": {
          "base_uri": "https://localhost:8080/"
        },
        "id": "VlLXfh7ZTecV",
        "outputId": "f1feefb0-c24c-4c4e-cb3b-7abf376e0764"
      },
      "execution_count": null,
      "outputs": [
        {
          "output_type": "stream",
          "name": "stdout",
          "text": [
            "(999584, 8)\n"
          ]
        }
      ]
    },
    {
      "cell_type": "markdown",
      "source": [
        "## Задание 5"
      ],
      "metadata": {
        "id": "tbROAif5XP5j"
      }
    },
    {
      "cell_type": "code",
      "source": [
        "\"\"\"Определите модуль разницы между средними тратами женщин и мужчин (трата - отрицательное значение amount)\"\"\"\n",
        "avg_expenses_female = transactions[(transactions['amount'] < 0) & (transactions['gender'] == 0)].groupby('gender')['amount'].mean().abs()\n",
        "avg_expenses_male = transactions[(transactions['amount'] < 0) & (transactions['gender'] == 1)].groupby('gender')['amount'].mean().abs()\n",
        "difference_expenses = abs(avg_expenses_female.values[0] - avg_expenses_male.values[0])\n",
        "\n",
        "print(\"Разница между средними тратами:\", abs(avg_expenses_female.mean() - avg_expenses_male.mean()))"
      ],
      "metadata": {
        "colab": {
          "base_uri": "https://localhost:8080/"
        },
        "id": "WUsJMh23Va_X",
        "outputId": "ff916153-bdcc-4551-ef6f-333862565948"
      },
      "execution_count": null,
      "outputs": [
        {
          "output_type": "stream",
          "name": "stdout",
          "text": [
            "Разница между средними тратами: 32718.054920224655\n"
          ]
        }
      ]
    },
    {
      "cell_type": "code",
      "source": [
        "\"\"\"Определите модуль разницы между средними поступлениями у мужчин и женщин\"\"\"\n",
        "avg_income_female = transactions[(transactions['amount'] > 0) & (transactions['gender'] == 0)].groupby('gender')['amount'].mean()\n",
        "avg_income_male = transactions[(transactions['amount'] > 0) & (transactions['gender'] == 1)].groupby('gender')['amount'].mean()\n",
        "difference_income = abs(avg_income_female.values[0] - avg_income_male.values[0])\n",
        "\n",
        "print(\"Разница в доходе:\", difference_income)"
      ],
      "metadata": {
        "colab": {
          "base_uri": "https://localhost:8080/"
        },
        "id": "BJH9rfB_XIPd",
        "outputId": "8208b0dd-ee07-43f5-d98d-33719f8e41a1"
      },
      "execution_count": null,
      "outputs": [
        {
          "output_type": "stream",
          "name": "stdout",
          "text": [
            "Разница в доходе: 63366.57104801464\n"
          ]
        }
      ]
    },
    {
      "cell_type": "markdown",
      "source": [
        "## Задание 6"
      ],
      "metadata": {
        "id": "frGGavW1YoR7"
      }
    },
    {
      "cell_type": "code",
      "source": [
        "\"\"\"По всем типам транзакций рассчитайте максимальную сумму прихода на карту\n",
        "(из строго положительных сумм по столбцу amount) отдельно для мужчин и женщин\n",
        "(назовите ее \"max_income\").\n",
        "Оставьте по 10 типов транзакций для мужчин и для женщин,\n",
        "наименьших среди всех типов транзакций по полученным значениям \"max_income\".\"\"\"\n",
        "positive_transactions = transactions[transactions['amount'] > 0]\n",
        "max_income = positive_transactions.groupby(['tr_type', 'gender'])['amount'].max()\n",
        "max_income_sorted = max_income.sort_values(ascending=True)\n",
        "\n",
        "top_10_female = max_income_sorted.loc[:, 0].head(10)\n",
        "top_10_male = max_income_sorted.loc[:, 1].head(10)\n",
        "\n",
        "print(\"Максимальные суммы прихода на карту для женщин:\")\n",
        "print(top_10_female)\n",
        "print(\"Максимальные суммы прихода на карту для мужчин:\")\n",
        "print(top_10_male)\n"
      ],
      "metadata": {
        "colab": {
          "base_uri": "https://localhost:8080/"
        },
        "id": "ixETNBZMYq_p",
        "outputId": "e8d29ed4-65bb-416d-8109-41d70502d727"
      },
      "execution_count": null,
      "outputs": [
        {
          "output_type": "stream",
          "name": "stdout",
          "text": [
            "Максимальные суммы прихода на карту для женщин:\n",
            "tr_type\n",
            "4051     1122.96\n",
            "4210     2245.92\n",
            "4110     2245.92\n",
            "2370     2335.75\n",
            "4100     5041.86\n",
            "7075     6737.75\n",
            "2110    22459.16\n",
            "1010    24839.83\n",
            "2010    44918.32\n",
            "2210    68315.82\n",
            "Name: amount, dtype: float64\n",
            "Максимальные суммы прихода на карту для мужчин:\n",
            "tr_type\n",
            "4110      2245.92\n",
            "2020      2245.92\n",
            "1010     28803.87\n",
            "8100     64682.37\n",
            "6000     79280.83\n",
            "7041     87590.72\n",
            "2010     89836.63\n",
            "2110    112295.79\n",
            "2370    113194.15\n",
            "7015    121279.45\n",
            "Name: amount, dtype: float64\n"
          ]
        }
      ]
    },
    {
      "cell_type": "code",
      "source": [
        "\"\"\"типы транзакций, которые встречаются одновременно и у мужчин, и у женщин\"\"\"\n",
        "common_types = set(top_10_female.index) & set(top_10_male.index)\n",
        "common_types"
      ],
      "metadata": {
        "colab": {
          "base_uri": "https://localhost:8080/"
        },
        "id": "aGcbAkzMaJrK",
        "outputId": "4d44b0a9-dad2-472e-80d6-091943bed194"
      },
      "execution_count": null,
      "outputs": [
        {
          "output_type": "execute_result",
          "data": {
            "text/plain": [
              "{1010, 2010, 2110, 2370, 4110}"
            ]
          },
          "metadata": {},
          "execution_count": 89
        }
      ]
    },
    {
      "cell_type": "markdown",
      "source": [
        "## Задание 8"
      ],
      "metadata": {
        "id": "gJUZPDUFa2Qu"
      }
    },
    {
      "cell_type": "code",
      "source": [
        "\"\"\"Из поля tr_datetime выделите час tr_hour, в который произошла транзакция, как первые 2 цифры до \":\".\"\"\"\n",
        "transactions['tr_hour'] = transactions['tr_datetime'].str[-8:-6].astype(int)\n",
        "\n",
        "\"\"\"Посчитайте количество транзакций с amount<0 в ночное время для мужчин и женщин. Ночное время - это примерно 00-06 часов.\"\"\"\n",
        "night_transactions_female = transactions[(transactions['amount'] < 0) & (transactions['gender'] == 0) & (transactions['tr_hour'] <= 6)]\n",
        "night_transactions_male = transactions[(transactions['amount'] < 0) & (transactions['gender'] == 1) & (transactions['tr_hour'] >= 0) & (transactions['tr_hour'] <= 6)]\n",
        "\n",
        "count_night_transactions_female = night_transactions_female.count()[0]\n",
        "count_night_transactions_male = len(night_transactions_male)\n",
        "\n",
        "print(\"Количество транзакций с amount<0 в ночное время для женщин:\", count_night_transactions_female)\n",
        "print(\"Количество транзакций с amount<0 в ночное время для мужчин:\", count_night_transactions_male)"
      ],
      "metadata": {
        "colab": {
          "base_uri": "https://localhost:8080/"
        },
        "id": "HfO8xkbha4X9",
        "outputId": "9a5d1124-6f3a-4445-b4bf-251a9fcdbb1b"
      },
      "execution_count": null,
      "outputs": [
        {
          "output_type": "stream",
          "name": "stdout",
          "text": [
            "Количество транзакций с amount<0 в ночное время для женщин: 43510\n",
            "Количество транзакций с amount<0 в ночное время для мужчин: 46694\n"
          ]
        }
      ]
    },
    {
      "cell_type": "markdown",
      "source": [
        "## Доп. задание"
      ],
      "metadata": {
        "id": "64JKCAF6_FiI"
      }
    },
    {
      "cell_type": "code",
      "source": [
        "\"\"\"Найдите, какой процент клиентов датасета совершает траты в ночное время\"\"\"\n",
        "transactions['is_night'] = ((transactions['tr_hour'] <= 6) & (transactions['amount'] < 0))\n",
        "night_clients = transactions[transactions['is_night']].index.nunique()\n",
        "total_clients = transactions.index.nunique()\n",
        "(night_clients / total_clients) * 100"
      ],
      "metadata": {
        "colab": {
          "base_uri": "https://localhost:8080/"
        },
        "id": "u3w7wPBg_E7B",
        "outputId": "f96ee2f2-5a8e-4cc7-824f-0a728e846e97"
      },
      "execution_count": null,
      "outputs": [
        {
          "output_type": "execute_result",
          "data": {
            "text/plain": [
              "90.43340380549682"
            ]
          },
          "metadata": {},
          "execution_count": 94
        }
      ]
    },
    {
      "cell_type": "code",
      "source": [
        "\"\"\"Посчитайте для этих людей разницу в тратах ночью и не ночью.\"\"\"\n",
        "night_transactions = transactions[(transactions['is_night'] == True) & (transactions['amount'] < 0)]\n",
        "day_transactions = transactions[(transactions['is_night'] == False) & (transactions['amount'] < 0)]\n",
        "\n",
        "sum_night_expenses = night_transactions.groupby(night_transactions.index)['amount'].sum().abs()\n",
        "sum_non_night_expenses = day_transactions.groupby(day_transactions.index)['amount'].sum().abs()\n",
        "\n",
        "abs(sum_night_expenses - sum_non_night_expenses)"
      ],
      "metadata": {
        "colab": {
          "base_uri": "https://localhost:8080/"
        },
        "id": "eagtJZH9A7ky",
        "outputId": "a22c53fe-9749-4e59-811f-17bacdedef6d"
      },
      "execution_count": null,
      "outputs": [
        {
          "output_type": "execute_result",
          "data": {
            "text/plain": [
              "customer_id\n",
              "115617      11629327.18\n",
              "117556        575978.54\n",
              "127946              NaN\n",
              "186730      19916256.47\n",
              "189257      25912270.64\n",
              "               ...     \n",
              "99864691      421255.41\n",
              "99900908            NaN\n",
              "99953525     3943747.81\n",
              "99967537            NaN\n",
              "99999680    14054419.84\n",
              "Name: amount, Length: 1892, dtype: float64"
            ]
          },
          "metadata": {},
          "execution_count": 95
        }
      ]
    }
  ]
}