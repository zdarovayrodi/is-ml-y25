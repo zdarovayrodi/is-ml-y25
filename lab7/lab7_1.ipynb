{
  "nbformat": 4,
  "nbformat_minor": 0,
  "metadata": {
    "colab": {
      "provenance": [],
      "gpuType": "T4"
    },
    "kernelspec": {
      "display_name": "Python 3",
      "name": "python3"
    },
    "language_info": {
      "codemirror_mode": {
        "name": "ipython",
        "version": 3
      },
      "file_extension": ".py",
      "mimetype": "text/x-python",
      "name": "python",
      "nbconvert_exporter": "python",
      "pygments_lexer": "ipython3",
      "version": "3.6.5"
    },
    "accelerator": "GPU"
  },
  "cells": [
    {
      "cell_type": "markdown",
      "metadata": {
        "id": "vcnGdgw_YJ8u"
      },
      "source": [
        "# PyTorch. Основы: синтаксис, torch.cuda и torch.autograd\n",
        "\n",
        "## Задание 7.1"
      ]
    },
    {
      "cell_type": "code",
      "metadata": {
        "id": "RtyozNmmYJ89"
      },
      "source": [
        "import torch\n",
        "import matplotlib.pyplot as plt"
      ],
      "execution_count": null,
      "outputs": []
    },
    {
      "cell_type": "markdown",
      "metadata": {
        "id": "ny4-Qi2wYJ-6"
      },
      "source": [
        "### Задача 1"
      ]
    },
    {
      "cell_type": "markdown",
      "metadata": {
        "id": "IWxlFq0bYJ-_"
      },
      "source": [
        "1). Создайте два вещественных тензора: `a` размером (3, 4) и `b` размером (12,)   \n",
        "2). Создайте тензор `c`, являющийся тензором `b`, но размера (2, 2, 3)  \n",
        "3). Выведите первый столбец матрицы `a` с помощью индексации"
      ]
    },
    {
      "cell_type": "code",
      "metadata": {
        "id": "3oxZuk3yYJ_A",
        "colab": {
          "base_uri": "https://localhost:8080/"
        },
        "outputId": "3c14437c-892b-4b83-b190-ddb69da3ffe3"
      },
      "source": [
        "import torch\n",
        "\n",
        "#  тензоры a и b\n",
        "a = torch.tensor([[1, 2, 3, 4],\n",
        "                  [5, 6, 7, 8],\n",
        "                  [9, 10, 11, 12]])\n",
        "\n",
        "b = torch.rand(12)\n",
        "\n",
        "# тензор c размера (2, 2, 3) из тензора b\n",
        "c = b.view(2, 2, 3)\n",
        "\n",
        "# первый столбец матрицы a\n",
        "print(a[:, 0])"
      ],
      "execution_count": null,
      "outputs": [
        {
          "output_type": "stream",
          "name": "stdout",
          "text": [
            "tensor([1, 5, 9])\n"
          ]
        }
      ]
    },
    {
      "cell_type": "markdown",
      "metadata": {
        "id": "D2IP_FrKYKAA"
      },
      "source": [
        "### Задача 2"
      ]
    },
    {
      "cell_type": "markdown",
      "metadata": {
        "id": "tBZFbSYQYKAA"
      },
      "source": [
        "1). Создайте два вещественных тензора: `a` размером (5, 2) и `b` размером (1,10)   \n",
        "2). Создайте тензор `c`, являющийся тензором `b`, но размера (5, 2)  \n",
        "3). Произведите все арифметические операции с тензорами `a` и `c`"
      ]
    },
    {
      "cell_type": "code",
      "metadata": {
        "id": "hzs2bH3GYKAB",
        "colab": {
          "base_uri": "https://localhost:8080/"
        },
        "outputId": "7fcc3129-3d36-4b5f-c21f-7d77a1e5614e"
      },
      "source": [
        "# вещественный тензор a\n",
        "a = torch.tensor([[1.0, 2.0],\n",
        "                  [3.0, 4.0],\n",
        "                  [5.0, 6.0],\n",
        "                  [7.0, 8.0],\n",
        "                  [9.0, 10.0]])\n",
        "\n",
        "# вещественный тензор b\n",
        "b = torch.rand(1, 10)\n",
        "\n",
        "# тензор c размера (5, 2) из тензора b\n",
        "c = b.view(5, 2)\n",
        "\n",
        "# арифметические операции с тензорами a и c\n",
        "print(\"a + c =\", a + c)\n",
        "print(\"a - c =\", a - c)\n",
        "print(\"a * c =\", a * c)\n",
        "print(\"a / c =\", a / c)"
      ],
      "execution_count": null,
      "outputs": [
        {
          "output_type": "stream",
          "name": "stdout",
          "text": [
            "a + c = tensor([[ 1.8714,  2.0011],\n",
            "        [ 3.4497,  4.1587],\n",
            "        [ 5.2493,  6.0274],\n",
            "        [ 7.9548,  8.0817],\n",
            "        [ 9.4100, 10.7232]])\n",
            "a - c = tensor([[0.1286, 1.9989],\n",
            "        [2.5503, 3.8413],\n",
            "        [4.7507, 5.9726],\n",
            "        [6.0452, 7.9183],\n",
            "        [8.5900, 9.2768]])\n",
            "a * c = tensor([[8.7137e-01, 2.2163e-03],\n",
            "        [1.3492e+00, 6.3465e-01],\n",
            "        [1.2467e+00, 1.6442e-01],\n",
            "        [6.6839e+00, 6.5341e-01],\n",
            "        [3.6900e+00, 7.2319e+00]])\n",
            "a / c = tensor([[1.1476e+00, 1.8048e+03],\n",
            "        [6.6705e+00, 2.5211e+01],\n",
            "        [2.0053e+01, 2.1895e+02],\n",
            "        [7.3311e+00, 9.7947e+01],\n",
            "        [2.1951e+01, 1.3828e+01]])\n"
          ]
        }
      ]
    },
    {
      "cell_type": "markdown",
      "metadata": {
        "id": "rIaroFO6YKBT"
      },
      "source": [
        "### Задача 3"
      ]
    },
    {
      "cell_type": "markdown",
      "metadata": {
        "id": "GfLHVvKvYKBT"
      },
      "source": [
        "1). Создайте тензор *целых чисел* `images` размерности (100, 200, 200, 3) (можно интерпретировать это как 100 картинок размера 200х200 с тремя цветовыми каналами, то есть 100 цветных изображений 200х200). Заполните его нулями  \n",
        "\n",
        "2). Сделайте так, чтобы у $i$-ой по порядку картинки была нарисована белая полоса толщиной два пикселя в строках, которые соответствуют номеру картинки. Например, у 3-ей по порядку картинки белая полоска будет занимать 6 и 7 строки, у 99 - 198 и 199. Сделать белую строку можно, записав в ячейки тензора число 255 (по всем трём каналам). Выведите несколько примеров с помощью `pylot`  \n",
        "\n",
        "3). Посчитайте среднее тензора `images` по 1-ой оси (по сути - средняя картинка), умножьте полученный тензор на 70. Нарисуйте с помощью `pyplot`, должна получиться серая картинка (при взятии среднего нужно привести тензор к float с помощью `.float()`, при отрисовке обратно к int с помощью `.int()`)"
      ]
    },
    {
      "cell_type": "code",
      "metadata": {
        "id": "pZVGHEQQYKBU",
        "colab": {
          "base_uri": "https://localhost:8080/",
          "height": 588
        },
        "outputId": "e9889de1-daec-4030-f4fb-2f9d15b7748d"
      },
      "source": [
        "images = torch.zeros(100, 200, 200, 3, dtype=torch.uint8)\n",
        "\n",
        "# белая полоса\n",
        "for i in range(100): images[i, i*2:i*2+2, :, :] = 255\n",
        "\n",
        "# вывод нескольких картинок\n",
        "plt.figure(figsize=(6, 6))\n",
        "for i in range(3):\n",
        "    plt.subplot(3, 3, i+1)\n",
        "    plt.imshow(images[i*20])\n",
        "    plt.axis('off')\n",
        "plt.show()\n",
        "\n",
        "mean_image = torch.mean(images.float(), dim=0)  # к float перед вычислением mean\n",
        "\n",
        "mean_image *= 70\n",
        "\n",
        "plt.imshow(mean_image.int())\n",
        "plt.show()"
      ],
      "execution_count": null,
      "outputs": [
        {
          "output_type": "display_data",
          "data": {
            "text/plain": [
              "<Figure size 600x600 with 3 Axes>"
            ],
            "image/png": "[encoded data removed]"
          },
          "metadata": {}
        },
        {
          "output_type": "display_data",
          "data": {
            "text/plain": [
              "<Figure size 640x480 with 1 Axes>"
            ],
            "image/png": "[encoded data removed]"
          },
          "metadata": {}
        }
      ]
    },
    {
      "cell_type": "markdown",
      "metadata": {
        "id": "oQnhq5ZdYKCu"
      },
      "source": [
        "### Задача 4"
      ]
    },
    {
      "cell_type": "markdown",
      "metadata": {
        "id": "UB95BhgTYKCu"
      },
      "source": [
        "- В Colab нажмите в меню сверху: `Runtime` -> `Change Runtime Type` -> `GPU`, где изначально стоит `None` (`Среда выполнение` - `Сменить среду выполнения`)\n",
        "- Объявите тензор `a` размера (2, 3, 4) и тензор `b` размера (1, 8, 3) на GPU, иницилизируйте их случайно равномерно (`.uniform_()`)\n",
        "- Затем измените форму тензора `b`, чтобы она совпадала с формой тензора `a`, получите тензор `c`  \n",
        "- Переместите `c` на CPU, переместите `a` на CPU  \n",
        "- Оберните их в `Variable()`\n",
        "- Объявите тензор `L = torch.mean((c - a) `**` 2)` и посчитайте градиент `L` по `c` ( то есть $\\frac{\\partial{L}}{\\partial{c}})$\n",
        "- Выведите градиент `L` по `c`"
      ]
    },
    {
      "cell_type": "code",
      "metadata": {
        "id": "WESOm5TCYKCv",
        "colab": {
          "base_uri": "https://localhost:8080/"
        },
        "outputId": "1ee688d2-0f3a-4b88-e8d7-83abc6cb9622"
      },
      "source": [
        "import torch\n",
        "from torch.autograd import Variable\n",
        "\n",
        "a = torch.empty(2, 3, 4).uniform_().cuda()\n",
        "b = torch.empty(1, 8, 3).uniform_().cuda()\n",
        "c = b.view(2, 3, 4)\n",
        "\n",
        "a = Variable(a.cpu(), requires_grad=True)\n",
        "c = Variable(c.cpu(), requires_grad=True)\n",
        "\n",
        "L = torch.mean((c - a) ** 2)\n",
        "L.backward()\n",
        "print(c.grad)"
      ],
      "execution_count": null,
      "outputs": [
        {
          "output_type": "stream",
          "name": "stdout",
          "text": [
            "tensor([[[-0.0790,  0.0010,  0.0212,  0.0267],\n",
            "         [-0.0009, -0.0551,  0.0065,  0.0353],\n",
            "         [-0.0370,  0.0136,  0.0146, -0.0008]],\n",
            "\n",
            "        [[-0.0047, -0.0092, -0.0225, -0.0572],\n",
            "         [-0.0460, -0.0384, -0.0190, -0.0221],\n",
            "         [-0.0445, -0.0389,  0.0237, -0.0228]]])\n"
          ]
        }
      ]
    }
  ]
}